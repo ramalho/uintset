{
 "cells": [
  {
   "cell_type": "markdown",
   "metadata": {},
   "source": [
    "# Undertanding `uintset`"
   ]
  },
  {
   "cell_type": "code",
   "execution_count": 1,
   "metadata": {},
   "outputs": [],
   "source": [
    "from uintset import UintSet\n",
    "\n",
    "def dump(u):\n",
    "    bits = bin(u._bits)[2:]\n",
    "    print(f'{u} → {u._bits}\\n{bits:>64}')"
   ]
  },
  {
   "cell_type": "code",
   "execution_count": 2,
   "metadata": {},
   "outputs": [
    {
     "name": "stdout",
     "output_type": "stream",
     "text": [
      "UintSet() → 0\n",
      "                                                               0\n"
     ]
    }
   ],
   "source": [
    "empty = UintSet()\n",
    "dump(empty)"
   ]
  },
  {
   "cell_type": "code",
   "execution_count": 3,
   "metadata": {},
   "outputs": [
    {
     "name": "stdout",
     "output_type": "stream",
     "text": [
      "UintSet({0}) → 1\n",
      "                                                               1\n"
     ]
    }
   ],
   "source": [
    "zero = UintSet([0])\n",
    "dump(zero)"
   ]
  },
  {
   "cell_type": "code",
   "execution_count": 4,
   "metadata": {},
   "outputs": [
    {
     "name": "stdout",
     "output_type": "stream",
     "text": [
      "UintSet({1}) → 2\n",
      "                                                              10\n"
     ]
    }
   ],
   "source": [
    "one = UintSet([1])\n",
    "dump(one)"
   ]
  },
  {
   "cell_type": "code",
   "execution_count": 5,
   "metadata": {},
   "outputs": [
    {
     "name": "stdout",
     "output_type": "stream",
     "text": [
      "UintSet({10}) → 1024\n",
      "                                                     10000000000\n"
     ]
    }
   ],
   "source": [
    "ten = UintSet([10])\n",
    "dump(ten)"
   ]
  },
  {
   "cell_type": "code",
   "execution_count": 6,
   "metadata": {},
   "outputs": [
    {
     "name": "stdout",
     "output_type": "stream",
     "text": [
      "UintSet({20}) → 1048576\n",
      "                                           100000000000000000000\n"
     ]
    }
   ],
   "source": [
    "twenty = UintSet([20])\n",
    "dump(twenty)"
   ]
  },
  {
   "cell_type": "code",
   "execution_count": 7,
   "metadata": {},
   "outputs": [
    {
     "name": "stdout",
     "output_type": "stream",
     "text": [
      "UintSet({0, 1, 2, 18, 20}) → 1310727\n",
      "                                           101000000000000000111\n"
     ]
    }
   ],
   "source": [
    "five_elements = UintSet([0, 1, 2, 18, 20])\n",
    "dump(five_elements)"
   ]
  },
  {
   "cell_type": "code",
   "execution_count": 8,
   "metadata": {},
   "outputs": [
    {
     "name": "stdout",
     "output_type": "stream",
     "text": [
      "UintSet({0, 1, 2, 3, 4, 5, 6, 7, 8, 9}) → 1023\n",
      "                                                      1111111111\n"
     ]
    }
   ],
   "source": [
    "first_10 = UintSet(range(10))\n",
    "dump(first_10)"
   ]
  },
  {
   "cell_type": "code",
   "execution_count": 9,
   "metadata": {},
   "outputs": [
    {
     "name": "stdout",
     "output_type": "stream",
     "text": [
      "UintSet({0, 2, 4, 6, 8, 10, 12, 14, 16, 18}) → 349525\n",
      "                                             1010101010101010101\n"
     ]
    }
   ],
   "source": [
    "evens = UintSet(range(0, 20, 2))\n",
    "dump(evens)"
   ]
  },
  {
   "cell_type": "code",
   "execution_count": 10,
   "metadata": {},
   "outputs": [
    {
     "name": "stdout",
     "output_type": "stream",
     "text": [
      "UintSet({1, 3, 5, 7, 9, 11, 13, 15, 17, 19}) → 699050\n",
      "                                            10101010101010101010\n"
     ]
    }
   ],
   "source": [
    "odds = UintSet(range(1, 20, 2))\n",
    "dump(odds)"
   ]
  },
  {
   "cell_type": "code",
   "execution_count": 11,
   "metadata": {},
   "outputs": [
    {
     "name": "stdout",
     "output_type": "stream",
     "text": [
      "UintSet({60}) → 1152921504606846976\n",
      "   1000000000000000000000000000000000000000000000000000000000000\n"
     ]
    }
   ],
   "source": [
    "sixty = UintSet([60])\n",
    "dump(sixty)"
   ]
  },
  {
   "cell_type": "code",
   "execution_count": 12,
   "metadata": {},
   "outputs": [
    {
     "name": "stdout",
     "output_type": "stream",
     "text": [
      "UintSet({0, 1, 58, 60}) → 1441151880758558723\n",
      "   1010000000000000000000000000000000000000000000000000000000011\n"
     ]
    }
   ],
   "source": [
    "four_elements = UintSet([0, 1, 58, 60])\n",
    "dump(four_elements)"
   ]
  }
 ],
 "metadata": {
  "kernelspec": {
   "display_name": "Python 3",
   "language": "python",
   "name": "python3"
  },
  "language_info": {
   "codemirror_mode": {
    "name": "ipython",
    "version": 3
   },
   "file_extension": ".py",
   "mimetype": "text/x-python",
   "name": "python",
   "nbconvert_exporter": "python",
   "pygments_lexer": "ipython3",
   "version": "3.7.3"
  }
 },
 "nbformat": 4,
 "nbformat_minor": 2
}
